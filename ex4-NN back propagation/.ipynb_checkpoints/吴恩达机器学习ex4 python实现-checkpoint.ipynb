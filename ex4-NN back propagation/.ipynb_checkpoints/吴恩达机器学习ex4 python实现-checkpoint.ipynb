{
 "cells": [
  {
   "cell_type": "markdown",
   "metadata": {
    "id": "F0C1E53317D744219C0A223E1B53C176",
    "mdEditEnable": false
   },
   "source": [
    "这个项目包含了吴恩达机器学习ex4的python实现，主要知识点为反向传播神经网络，题目内容可以查看数据集中的ex4.pdf\n",
    "\n",
    "代码来自网络（原作者[黄广海的github](https://github.com/fengdu78/Coursera-ML-AndrewNg-Notes)），添加了部分对于题意的中文翻译，以及修改成与习题一致的结构，方便大家理解\n",
    "\n",
    "其余练习的传送门\n",
    "[ex1：线性回归](https://www.kesci.com/home/project/5da16a37037db3002d441810)\n",
    "[ex2：逻辑回归、正则化](https://www.kesci.com/home/project/5da1829c037db3002d445baa)\n",
    "[ex3：多类别逻辑回归、神经网络](https://www.kesci.com/home/project/5da56d46c83fb4004202c42b)\n",
    "[ex4：反向传播神经网络](https://www.kesci.com/home/project/5da6bd34c83fb40042068a41)\n",
    "[ex5：偏差和方差、训练集&验证集&测试集](https://www.kesci.com/home/project/5da95c65c83fb400420f2b61)\n",
    "[ex6：支持向量机](https://www.kesci.com/home/project/5da961c8c83fb400420f3dd7)\n",
    "[ex7：K-means和PCA（主要成分分析）](https://www.kesci.com/home/project/5dad17f95f73ad002da303db)\n",
    "[ex8：异常检测和推荐系统（协同过滤）](https://www.kesci.com/home/project/5dad1aa85f73ad002da30562)"
   ]
  },
  {
   "cell_type": "markdown",
   "metadata": {
    "id": "287E353C34A74AEC88B99A3D7EF484DA",
    "mdEditEnable": false
   },
   "source": [
    "# 1 神经网络\n",
    "对于这个练习，我们将再次处理手写数字数据集。这次使用反向传播的前馈神经网络，自动学习神经网络的参数。\n",
    "## 1.1 数据可视化\n",
    "这部分和ex3里是一样的，5000张20*20像素的手写数字数据集，以及对应的数字（1-9，0对应10）"
   ]
  },
  {
   "cell_type": "code",
   "execution_count": 1,
   "metadata": {
    "id": "EB08BD87695249B6BB741366B810CF7D",
    "scrolled": false
   },
   "outputs": [
    {
     "name": "stderr",
     "output_type": "stream",
     "text": [
      "/opt/conda/lib/python3.6/importlib/_bootstrap.py:219: RuntimeWarning: numpy.dtype size changed, may indicate binary incompatibility. Expected 96, got 88\n",
      "  return f(*args, **kwds)\n",
      "/opt/conda/lib/python3.6/importlib/_bootstrap.py:219: RuntimeWarning: numpy.dtype size changed, may indicate binary incompatibility. Expected 96, got 88\n",
      "  return f(*args, **kwds)\n"
     ]
    }
   ],
   "source": [
    "import numpy as np\n",
    "import pandas as pd\n",
    "import matplotlib.pyplot as plt\n",
    "import matplotlib\n",
    "from scipy.io import loadmat\n",
    "from sklearn.preprocessing import OneHotEncoder"
   ]
  },
  {
   "cell_type": "code",
   "execution_count": 2,
   "metadata": {
    "id": "AB16F7A411E346608916650031DCC4E0",
    "scrolled": false
   },
   "outputs": [
    {
     "data": {
      "text/plain": [
       "{'__header__': b'MATLAB 5.0 MAT-file, Platform: GLNXA64, Created on: Sun Oct 16 13:09:09 2011',\n",
       " '__version__': '1.0',\n",
       " '__globals__': [],\n",
       " 'X': array([[0., 0., 0., ..., 0., 0., 0.],\n",
       "        [0., 0., 0., ..., 0., 0., 0.],\n",
       "        [0., 0., 0., ..., 0., 0., 0.],\n",
       "        ...,\n",
       "        [0., 0., 0., ..., 0., 0., 0.],\n",
       "        [0., 0., 0., ..., 0., 0., 0.],\n",
       "        [0., 0., 0., ..., 0., 0., 0.]]),\n",
       " 'y': array([[10],\n",
       "        [10],\n",
       "        [10],\n",
       "        ...,\n",
       "        [ 9],\n",
       "        [ 9],\n",
       "        [ 9]], dtype=uint8)}"
      ]
     },
     "execution_count": 2,
     "metadata": {},
     "output_type": "execute_result"
    }
   ],
   "source": [
    "data = loadmat('/home/kesci/input/andrew_ml_ex45345/ex4data1.mat')\n",
    "data"
   ]
  },
  {
   "cell_type": "code",
   "execution_count": 3,
   "metadata": {
    "id": "F175F484C8C84C8C8DEEAE97FEDE98BD",
    "scrolled": false
   },
   "outputs": [
    {
     "data": {
      "text/plain": [
       "((5000, 400), (5000, 1))"
      ]
     },
     "execution_count": 3,
     "metadata": {},
     "output_type": "execute_result"
    }
   ],
   "source": [
    "X = data['X']\n",
    "y = data['y']\n",
    "\n",
    "X.shape, y.shape#看下维度"
   ]
  },
  {
   "cell_type": "code",
   "execution_count": 4,
   "metadata": {
    "id": "A63A1F95451D48088EE1A68B12B9050B",
    "scrolled": false
   },
   "outputs": [
    {
     "data": {
      "text/plain": [
       "((25, 401), (10, 26))"
      ]
     },
     "execution_count": 4,
     "metadata": {},
     "output_type": "execute_result"
    }
   ],
   "source": [
    "weight = loadmat(\"/home/kesci/input/andrew_ml_ex45345/ex4weights.mat\")\n",
    "theta1, theta2 = weight['Theta1'], weight['Theta2']\n",
    "theta1.shape, theta2.shape"
   ]
  },
  {
   "cell_type": "code",
   "execution_count": 5,
   "metadata": {
    "id": "39A6D2550CF04A918DCE7E2779071911",
    "scrolled": false
   },
   "outputs": [
    {
     "data": {
      "text/html": [
       "<img src=\"https://cdn.kesci.com/rt_upload/39A6D2550CF04A918DCE7E2779071911/pzhz47akul.png\">"
      ],
      "text/plain": [
       "<Figure size 864x864 with 100 Axes>"
      ]
     },
     "metadata": {},
     "output_type": "display_data"
    }
   ],
   "source": [
    "sample_idx = np.random.choice(np.arange(data['X'].shape[0]), 100)\n",
    "sample_images = data['X'][sample_idx, :]\n",
    "fig, ax_array = plt.subplots(nrows=10, ncols=10, sharey=True, sharex=True, figsize=(12, 12))\n",
    "for r in range(10):\n",
    "    for c in range(10):\n",
    "        ax_array[r, c].matshow(np.array(sample_images[10 * r + c].reshape((20, 20))).T,cmap=matplotlib.cm.binary)\n",
    "        plt.xticks(np.array([]))\n",
    "        plt.yticks(np.array([])) "
   ]
  },
  {
   "cell_type": "markdown",
   "metadata": {
    "id": "CDDACD6FEEAC449B9F2233D8BA45BFA8",
    "mdEditEnable": false
   },
   "source": [
    "## 1.2 模型展示\n",
    "\n",
    "![Image Name](https://cdn.kesci.com/upload/image/pzgi4nsanm.png?imageView2/0/w/960/h/960)\n",
    "\n",
    "这部分和ex3的第二部分一样"
   ]
  },
  {
   "cell_type": "markdown",
   "metadata": {
    "id": "7E0C4D3180754A798ED7E194DD6596B0",
    "mdEditEnable": false
   },
   "source": [
    "## 1.3 前向传播和代价函数\n",
    "首先，实现神经网络的代价函数和梯度函数\n",
    "要求：你的代码应该适用于任何数据集，包括任意数量的输入输出单元"
   ]
  },
  {
   "cell_type": "code",
   "execution_count": 6,
   "metadata": {
    "id": "1AA97326DC594C19888A902C1202ACA7",
    "scrolled": false
   },
   "outputs": [],
   "source": [
    "def sigmoid(z):\n",
    "    return 1 / (1 + np.exp(-z))"
   ]
  },
  {
   "cell_type": "code",
   "execution_count": 7,
   "metadata": {
    "id": "2CB9ECF0AFD3430093EBFA07F9168AE4",
    "scrolled": false
   },
   "outputs": [],
   "source": [
    "# 前向传播函数\n",
    "def forward_propagate(X, theta1, theta2):\n",
    "    m = X.shape[0]\n",
    "    \n",
    "    a1 = np.insert(X, 0, values=np.ones(m), axis=1)\n",
    "    z2 = a1 * theta1.T\n",
    "    a2 = np.insert(sigmoid(z2), 0, values=np.ones(m), axis=1)\n",
    "    z3 = a2 * theta2.T\n",
    "    h = sigmoid(z3)\n",
    "    \n",
    "    return a1, z2, a2, z3, h"
   ]
  },
  {
   "cell_type": "markdown",
   "metadata": {
    "id": "C7B2D2B9D5E3483EB0D1C39DC1CA09A5",
    "mdEditEnable": false
   },
   "source": [
    "代价函数\n",
    "\n",
    "![Image Name](https://cdn.kesci.com/upload/image/pzgj2aojyc.png?imageView2/0/w/960/h/960)"
   ]
  },
  {
   "cell_type": "code",
   "execution_count": 8,
   "metadata": {
    "id": "3DD2C9FA6BCF442DB18E290E64971FA7",
    "scrolled": false
   },
   "outputs": [],
   "source": [
    "def cost(theta1, theta2 , input_size, hidden_size, num_labels, X, y, learning_rate):\n",
    "    m = X.shape[0]\n",
    "    X = np.matrix(X)\n",
    "    y = np.matrix(y)\n",
    "    \n",
    "    # run the feed-forward pass\n",
    "    a1, z2, a2, z3, h = forward_propagate(X, theta1, theta2)\n",
    "    \n",
    "    # compute the cost\n",
    "    J = 0\n",
    "    for i in range(m):\n",
    "        first_term = np.multiply(-y[i,:], np.log(h[i,:]))\n",
    "        second_term = np.multiply((1 - y[i,:]), np.log(1 - h[i,:]))\n",
    "        J += np.sum(first_term - second_term)\n",
    "    \n",
    "    J = J / m\n",
    "    \n",
    "    return J"
   ]
  },
  {
   "cell_type": "markdown",
   "metadata": {
    "id": "D7F47F1E6F21478E8F83D2E7A99790FF",
    "mdEditEnable": false
   },
   "source": [
    "对y标签进行编码\n",
    "一开始我们得到的y是$5000*1$维的向量，但我们要把他编码成$5000*10$的矩阵。\n",
    "比如说，原始$y_0=2$，那么转化后的Y对应行就是[0,1,0...0]，原始$y_1=0$转化后的Y对应行就是[0,0...0,1]\n",
    "\n",
    "Scikitlearn有一个内置的编码函数，我们可以使用这个。"
   ]
  },
  {
   "cell_type": "code",
   "execution_count": 9,
   "metadata": {
    "id": "6C8A99C19B874366A824375A60D2A469",
    "scrolled": false
   },
   "outputs": [
    {
     "name": "stderr",
     "output_type": "stream",
     "text": [
      "/opt/conda/lib/python3.6/site-packages/sklearn/preprocessing/_encoders.py:368: FutureWarning: The handling of integer data will change in version 0.22. Currently, the categories are determined based on the range [0, max(values)], while in the future they will be determined based on the unique values.\n",
      "If you want the future behaviour and silence this warning, you can specify \"categories='auto'\".\n",
      "In case you used a LabelEncoder before this OneHotEncoder to convert the categories to integers, then you can now use the OneHotEncoder directly.\n",
      "  warnings.warn(msg, FutureWarning)\n"
     ]
    },
    {
     "data": {
      "text/plain": [
       "(5000, 10)"
      ]
     },
     "execution_count": 9,
     "metadata": {},
     "output_type": "execute_result"
    }
   ],
   "source": [
    "encoder = OneHotEncoder(sparse=False)\n",
    "y_onehot = encoder.fit_transform(y)\n",
    "y_onehot.shape"
   ]
  },
  {
   "cell_type": "code",
   "execution_count": 10,
   "metadata": {
    "id": "BE31330C7EAF4A70AF285D0ECD181205",
    "scrolled": false
   },
   "outputs": [
    {
     "data": {
      "text/plain": [
       "(array([10], dtype=uint8), array([0., 0., 0., 0., 0., 0., 0., 0., 0., 1.]))"
      ]
     },
     "execution_count": 10,
     "metadata": {},
     "output_type": "execute_result"
    }
   ],
   "source": [
    "y[0], y_onehot[0,:] # y0是数字0"
   ]
  },
  {
   "cell_type": "markdown",
   "metadata": {
    "id": "CB8CC8A908564E2D8EB1C7CB004C9834",
    "mdEditEnable": false
   },
   "source": [
    "用ex4weights.mat中给定的theta1 和 theta2 计算初始代价\n",
    "答案应该是0.287629"
   ]
  },
  {
   "cell_type": "code",
   "execution_count": 11,
   "metadata": {
    "id": "29A56A5D22E54A2986832E97D51D48D6",
    "scrolled": false
   },
   "outputs": [],
   "source": [
    "# 初始化设置\n",
    "input_size = 400\n",
    "hidden_size = 25\n",
    "num_labels = 10\n",
    "learning_rate = 1"
   ]
  },
  {
   "cell_type": "code",
   "execution_count": 12,
   "metadata": {
    "id": "2D319203A0444F8ABD87A90A52D7DDD7",
    "scrolled": false
   },
   "outputs": [
    {
     "data": {
      "text/plain": [
       "0.2876291651613187"
      ]
     },
     "execution_count": 12,
     "metadata": {},
     "output_type": "execute_result"
    }
   ],
   "source": [
    "cost(theta1, theta2, input_size, hidden_size, num_labels, X, y_onehot, learning_rate)"
   ]
  },
  {
   "cell_type": "markdown",
   "metadata": {
    "id": "1084A9506F49444B8A5BC51EB23C658E",
    "mdEditEnable": false
   },
   "source": [
    "## 1.4 正则化代价函数\n",
    "公式如下：\n",
    "\n",
    "![Image Name](https://cdn.kesci.com/upload/image/pzgju3am60.png?imageView2/0/w/960/h/960)\n",
    "\n",
    "要求：你的代码需要满足任何大小的$\\Theta^{(1)}$以及$\\Theta^{(2)}$\n",
    "\n",
    "用ex4weights.mat中给定的theta1 和 theta2 计算初始代价\n",
    "答案应该是0.383770"
   ]
  },
  {
   "cell_type": "code",
   "execution_count": 13,
   "metadata": {
    "id": "DC6D17ED337D49549A5B4B8E6EF0776F",
    "scrolled": false
   },
   "outputs": [],
   "source": [
    "def costReg(theta1, theta2, input_size, hidden_size, num_labels, X, y, learning_rate):\n",
    "    m = X.shape[0]\n",
    "    X = np.matrix(X)\n",
    "    y = np.matrix(y)\n",
    "\n",
    "    # run the feed-forward pass\n",
    "    a1, z2, a2, z3, h = forward_propagate(X, theta1, theta2)\n",
    "    \n",
    "    # compute the cost\n",
    "    J = 0\n",
    "    for i in range(m):\n",
    "        first_term = np.multiply(-y[i,:], np.log(h[i,:]))\n",
    "        second_term = np.multiply((1 - y[i,:]), np.log(1 - h[i,:]))\n",
    "        J += np.sum(first_term - second_term)\n",
    "    \n",
    "    J = J / m\n",
    "    \n",
    "    # add the cost regularization term\n",
    "    J += (float(learning_rate) / (2 * m)) * (np.sum(np.power(theta1[:,1:], 2)) + np.sum(np.power(theta2[:,1:], 2)))\n",
    "    \n",
    "    return J"
   ]
  },
  {
   "cell_type": "code",
   "execution_count": 14,
   "metadata": {
    "id": "FC8426C6CC1948798B4C9E8CCFFEBFEF",
    "scrolled": false
   },
   "outputs": [
    {
     "data": {
      "text/plain": [
       "0.3837698590909234"
      ]
     },
     "execution_count": 14,
     "metadata": {},
     "output_type": "execute_result"
    }
   ],
   "source": [
    "costReg(theta1, theta2, input_size, hidden_size, num_labels, X, y_onehot, learning_rate)"
   ]
  },
  {
   "cell_type": "markdown",
   "metadata": {
    "id": "C34372F06F3B4B6389EE91C2FCC8F67C",
    "mdEditEnable": false
   },
   "source": [
    "# 2 反向传播\n",
    "这一部分需要你实现反向传播的算法，来计算神经网络代价函数的梯度。获得了梯度的数据，我们就可以使用工具库来计算代价函数的最小值。\n",
    "## 2.1 sigmoid梯度\n",
    "你需要实现sigmoid函数的梯度，公式如下：\n",
    "$$\n",
    "g'(z)=\\frac{d}{dz}g(z)=g(z)(1-g(z))\n",
    "$$\n",
    "其中\n",
    "$$\n",
    "sigmoid(z)=g(z)=\\frac{1}{1+e^{-z}}\n",
    "$$\n",
    "在绝对值比较大的数上，梯度应该接近0，当$z=0$时，梯度应该是0.25\n",
    "另外，这个函数应该可以作用于向量以及矩阵，作用在矩阵上时，应该是计算每个元素的梯度"
   ]
  },
  {
   "cell_type": "code",
   "execution_count": 15,
   "metadata": {
    "id": "A552B4DF45B64B2FA9456397D1084DD7",
    "scrolled": false
   },
   "outputs": [],
   "source": [
    "def sigmoid_gradient(z):\n",
    "    return np.multiply(sigmoid(z), (1 - sigmoid(z)))"
   ]
  },
  {
   "cell_type": "code",
   "execution_count": 16,
   "metadata": {
    "id": "F1F850D704C2403784B50ED1F5AB0B45",
    "scrolled": false
   },
   "outputs": [
    {
     "data": {
      "text/plain": [
       "0.25"
      ]
     },
     "execution_count": 16,
     "metadata": {},
     "output_type": "execute_result"
    }
   ],
   "source": [
    "sigmoid_gradient(0)"
   ]
  },
  {
   "cell_type": "markdown",
   "metadata": {
    "id": "5FF65B57493C468985759CBA1F0CD2A2",
    "mdEditEnable": false
   },
   "source": [
    "## 2.2 随机初始\n",
    "当我们训练神经网络的时候，需要将$\\Theta^{(l)}$设定为$\\{-\\epsilon _{init},\\epsilon _{init}\\}$之间的随机值。此处我们设定$\\epsilon _{init}=0.12$\n",
    "这个范围保证了参数足够小，使参数学习更高效"
   ]
  },
  {
   "cell_type": "code",
   "execution_count": 23,
   "metadata": {
    "id": "5EAA7DA9F03746F28939485B04B43E60",
    "scrolled": false
   },
   "outputs": [],
   "source": [
    "# np.random.random(size) 返回size大小的0-1随机浮点数\n",
    "params = (np.random.random(size=hidden_size * (input_size + 1) + num_labels * (hidden_size + 1)) - 0.5) * 0.24"
   ]
  },
  {
   "cell_type": "markdown",
   "metadata": {
    "id": "CF69C407141345D5A858C0FA405C53ED",
    "mdEditEnable": false
   },
   "source": [
    "## 2.3 反向传播\n",
    "反向传播的步骤是，给定训练集$(x^{(t},y^{(t)})$，先计算正向传播$h_\\Theta(x)$，再对于$l$层的每个节点$j$，计算误差项$\\delta_j^{(l)}$，这个数据衡量这个节点对最后输出的误差“贡献”了多少。\n",
    "对于每个输出节点，我们可以直接计算输出值与目标值的差值，定义为$\\delta_j^{(3)}$。对于每个隐藏节点，需要基于现有权重及$(l+1)$层的误差，计算$\\delta_j^{(l)}$"
   ]
  },
  {
   "cell_type": "code",
   "execution_count": 24,
   "metadata": {
    "id": "E10F67CA9E194DA98BB1FFDEE83A4FFD",
    "scrolled": false
   },
   "outputs": [],
   "source": [
    "def backprop(params, input_size, hidden_size, num_labels, X, y, learning_rate):\n",
    "    m = X.shape[0]\n",
    "    X = np.matrix(X)\n",
    "    y = np.matrix(y)\n",
    "    \n",
    "    # run the feed-forward pass\n",
    "    a1, z2, a2, z3, h = forward_propagate(X, theta1, theta2)\n",
    "    \n",
    "    # reshape the parameter array into parameter matrices for each layer\n",
    "    theta1 = np.matrix(np.reshape(params[:hidden_size * (input_size + 1)], (hidden_size, (input_size + 1))))\n",
    "    theta2 = np.matrix(np.reshape(params[hidden_size * (input_size + 1):], (num_labels, (hidden_size + 1))))\n",
    "    \n",
    "    # initializations\n",
    "    J = 0\n",
    "    delta1 = np.zeros(theta1.shape)  # (25, 401)\n",
    "    delta2 = np.zeros(theta2.shape)  # (10, 26)\n",
    "    \n",
    "    # compute the cost\n",
    "    for i in range(m):\n",
    "        first_term = np.multiply(-y[i,:], np.log(h[i,:]))\n",
    "        second_term = np.multiply((1 - y[i,:]), np.log(1 - h[i,:]))\n",
    "        J += np.sum(first_term - second_term)\n",
    "    \n",
    "    J = J / m\n",
    "\n",
    "    # perform backpropagation\n",
    "    for t in range(m):\n",
    "        a1t = a1[t,:]  # (1, 401)\n",
    "        z2t = z2[t,:]  # (1, 25)\n",
    "        a2t = a2[t,:]  # (1, 26)\n",
    "        ht = h[t,:]  # (1, 10)\n",
    "        yt = y[t,:]  # (1, 10)\n",
    "        \n",
    "        d3t = ht - yt  # (1, 10)\n",
    "        \n",
    "        z2t = np.insert(z2t, 0, values=np.ones(1))  # (1, 26)\n",
    "        d2t = np.multiply((theta2.T * d3t.T).T, sigmoid_gradient(z2t))  # (1, 26)\n",
    "        \n",
    "        delta1 = delta1 + (d2t[:,1:]).T * a1t\n",
    "        delta2 = delta2 + d3t.T * a2t\n",
    "        \n",
    "    delta1 = delta1 / m\n",
    "    delta2 = delta2 / m\n",
    "    \n",
    "    return J, delta1, delta2"
   ]
  },
  {
   "cell_type": "markdown",
   "metadata": {
    "id": "086479234CAE44B18CDE11BF7816BB35",
    "mdEditEnable": false
   },
   "source": [
    "## 2.4 梯度校验\n",
    "进行梯度校验是，你需要把$\\Theta^{(1)},\\Theta^{(2)}$连接成一个长向量$\\theta$。之后你可以使用如下公式计算$\\frac{\\partial}{\\partial \\theta _i}j(\\theta)$:\n",
    "![Image Name](https://cdn.kesci.com/upload/image/pzgnbmwsv0.png?imageView2/0/w/960/h/960)\n",
    "如果你的反向传播计算正确，那你得出的这个数字应该小于10e-9\n",
    "\n",
    "运行一次巨慢，不做了"
   ]
  },
  {
   "cell_type": "markdown",
   "metadata": {
    "id": "8FEA26209FB3441D8FEA408B903448F6",
    "mdEditEnable": false
   },
   "source": [
    "## 2.5 正则化神经网络\n",
    "加入正则项"
   ]
  },
  {
   "cell_type": "code",
   "execution_count": 25,
   "metadata": {
    "id": "93C2C642D58B4B218553B4CEBC7B4E6F",
    "scrolled": false
   },
   "outputs": [],
   "source": [
    "def backpropReg(params, input_size, hidden_size, num_labels, X, y, learning_rate):\n",
    "    m = X.shape[0]\n",
    "    X = np.matrix(X)\n",
    "    y = np.matrix(y)\n",
    "    \n",
    "    # reshape the parameter array into parameter matrices for each layer\n",
    "    theta1 = np.matrix(np.reshape(params[:hidden_size * (input_size + 1)], (hidden_size, (input_size + 1))))\n",
    "    theta2 = np.matrix(np.reshape(params[hidden_size * (input_size + 1):], (num_labels, (hidden_size + 1))))\n",
    "    \n",
    "    # run the feed-forward pass\n",
    "    a1, z2, a2, z3, h = forward_propagate(X, theta1, theta2)\n",
    "    \n",
    "    # initializations\n",
    "    J = 0\n",
    "    delta1 = np.zeros(theta1.shape)  # (25, 401)\n",
    "    delta2 = np.zeros(theta2.shape)  # (10, 26)\n",
    "    \n",
    "    # compute the cost\n",
    "    for i in range(m):\n",
    "        first_term = np.multiply(-y[i,:], np.log(h[i,:]))\n",
    "        second_term = np.multiply((1 - y[i,:]), np.log(1 - h[i,:]))\n",
    "        J += np.sum(first_term - second_term)\n",
    "    \n",
    "    J = J / m\n",
    "    \n",
    "    # add the cost regularization term\n",
    "    J += (float(learning_rate) / (2 * m)) * (np.sum(np.power(theta1[:,1:], 2)) + np.sum(np.power(theta2[:,1:], 2)))\n",
    "    \n",
    "    # perform backpropagation\n",
    "    for t in range(m):\n",
    "        a1t = a1[t,:]  # (1, 401)\n",
    "        z2t = z2[t,:]  # (1, 25)\n",
    "        a2t = a2[t,:]  # (1, 26)\n",
    "        ht = h[t,:]  # (1, 10)\n",
    "        yt = y[t,:]  # (1, 10)\n",
    "        \n",
    "        d3t = ht - yt  # (1, 10)\n",
    "        \n",
    "        z2t = np.insert(z2t, 0, values=np.ones(1))  # (1, 26)\n",
    "        d2t = np.multiply((theta2.T * d3t.T).T, sigmoid_gradient(z2t))  # (1, 26)\n",
    "        \n",
    "        delta1 = delta1 + (d2t[:,1:]).T * a1t\n",
    "        delta2 = delta2 + d3t.T * a2t\n",
    "        \n",
    "    delta1 = delta1 / m\n",
    "    delta2 = delta2 / m\n",
    "    \n",
    "    # add the gradient regularization term\n",
    "    delta1[:,1:] = delta1[:,1:] + (theta1[:,1:] * learning_rate) / m\n",
    "    delta2[:,1:] = delta2[:,1:] + (theta2[:,1:] * learning_rate) / m\n",
    "    \n",
    "    # unravel the gradient matrices into a single array\n",
    "    grad = np.concatenate((np.ravel(delta1), np.ravel(delta2)))\n",
    "    \n",
    "    return J, grad"
   ]
  },
  {
   "cell_type": "markdown",
   "metadata": {
    "id": "CFBC15892E5A4DB78CEEBD51FA3FA8EA",
    "mdEditEnable": false
   },
   "source": [
    "## 2.6 使用工具库计算参数最优解"
   ]
  },
  {
   "cell_type": "code",
   "execution_count": 27,
   "metadata": {
    "id": "6D1DC129DA2A47DA8D032B457B0345D8",
    "scrolled": false
   },
   "outputs": [
    {
     "name": "stderr",
     "output_type": "stream",
     "text": [
      "/opt/conda/lib/python3.6/site-packages/ipykernel_launcher.py:21: RuntimeWarning: divide by zero encountered in log\n"
     ]
    },
    {
     "data": {
      "text/plain": [
       "     fun: 0.3273458623517624\n",
       "     jac: array([ 2.64812868e-04,  4.36005508e-07,  3.29870427e-07, ...,\n",
       "       -8.29107191e-06, -1.31657895e-05, -3.91983322e-05])\n",
       " message: 'Max. number of function evaluations reached'\n",
       "    nfev: 250\n",
       "     nit: 21\n",
       "  status: 3\n",
       " success: False\n",
       "       x: array([ 1.81508073e-01,  2.18002754e-03,  1.64935214e-03, ...,\n",
       "       -1.41441536e+00, -1.30020455e+00, -2.89508409e+00])"
      ]
     },
     "execution_count": 27,
     "metadata": {},
     "output_type": "execute_result"
    }
   ],
   "source": [
    "from scipy.optimize import minimize\n",
    "\n",
    "# minimize the objective function\n",
    "fmin = minimize(fun=backpropReg, x0=(params), args=(input_size, hidden_size, num_labels, X, y_onehot, learning_rate), \n",
    "                method='TNC', jac=True, options={'maxiter': 250})\n",
    "fmin"
   ]
  },
  {
   "cell_type": "code",
   "execution_count": 42,
   "metadata": {
    "id": "087745DD4A69451189459C08F164849D",
    "scrolled": false
   },
   "outputs": [],
   "source": [
    "X = np.matrix(X)\n",
    "thetafinal1 = np.matrix(np.reshape(fmin.x[:hidden_size * (input_size + 1)], (hidden_size, (input_size + 1))))\n",
    "thetafinal2 = np.matrix(np.reshape(fmin.x[hidden_size * (input_size + 1):], (num_labels, (hidden_size + 1))))"
   ]
  },
  {
   "cell_type": "code",
   "execution_count": 43,
   "metadata": {
    "id": "D15F75CA2C764B0C8853C14E8B6F1B54",
    "scrolled": false
   },
   "outputs": [
    {
     "data": {
      "text/plain": [
       "array([[10],\n",
       "       [10],\n",
       "       [10],\n",
       "       ...,\n",
       "       [ 9],\n",
       "       [ 9],\n",
       "       [ 9]])"
      ]
     },
     "execution_count": 43,
     "metadata": {},
     "output_type": "execute_result"
    }
   ],
   "source": [
    "# 计算使用优化后的θ得出的预测\n",
    "a1, z2, a2, z3, h = forward_propagate(X, thetafinal1, thetafinal2 )\n",
    "y_pred = np.array(np.argmax(h, axis=1) + 1)\n",
    "y_pred"
   ]
  },
  {
   "cell_type": "markdown",
   "metadata": {
    "id": "9A301DD3F361460EADCAB4447AD7CD69",
    "mdEditEnable": false
   },
   "source": [
    "最后，我们可以计算准确度，看看我们训练完毕的神经网络效果怎么样。"
   ]
  },
  {
   "cell_type": "code",
   "execution_count": 31,
   "metadata": {
    "id": "29219E7F4423421B94D888629F0AAD18",
    "scrolled": false
   },
   "outputs": [
    {
     "name": "stdout",
     "output_type": "stream",
     "text": [
      "              precision    recall  f1-score   support\n",
      "\n",
      "           1       0.99      1.00      0.99       500\n",
      "           2       0.99      0.99      0.99       500\n",
      "           3       0.99      0.99      0.99       500\n",
      "           4       0.99      0.99      0.99       500\n",
      "           5       1.00      1.00      1.00       500\n",
      "           6       1.00      1.00      1.00       500\n",
      "           7       0.99      0.99      0.99       500\n",
      "           8       1.00      1.00      1.00       500\n",
      "           9       0.99      0.98      0.99       500\n",
      "          10       0.99      1.00      1.00       500\n",
      "\n",
      "   micro avg       0.99      0.99      0.99      5000\n",
      "   macro avg       0.99      0.99      0.99      5000\n",
      "weighted avg       0.99      0.99      0.99      5000\n",
      "\n"
     ]
    }
   ],
   "source": [
    "# 预测值与实际值比较\n",
    "from sklearn.metrics import classification_report#这个包是评价报告\n",
    "print(classification_report(y, y_pred))"
   ]
  },
  {
   "cell_type": "markdown",
   "metadata": {
    "id": "E1880A1211F243A584D73E259FC11EF1",
    "mdEditEnable": false
   },
   "source": [
    "# 3 可视化隐藏层"
   ]
  },
  {
   "cell_type": "code",
   "execution_count": 44,
   "metadata": {
    "id": "67D9ACB7AE354A058A6040B8C98E4A98",
    "scrolled": false
   },
   "outputs": [
    {
     "data": {
      "text/plain": [
       "(25, 400)"
      ]
     },
     "execution_count": 44,
     "metadata": {},
     "output_type": "execute_result"
    }
   ],
   "source": [
    "hidden_layer = thetafinal1[:, 1:] \n",
    "hidden_layer.shape"
   ]
  },
  {
   "cell_type": "code",
   "execution_count": 47,
   "metadata": {
    "id": "AF351780C798472DBBFC7CA09EA155AF",
    "scrolled": false
   },
   "outputs": [
    {
     "data": {
      "text/html": [
       "<img src=\"https://cdn.kesci.com/rt_upload/AF351780C798472DBBFC7CA09EA155AF/pzi1cw4a40.png\">"
      ],
      "text/plain": [
       "<Figure size 864x864 with 25 Axes>"
      ]
     },
     "metadata": {},
     "output_type": "display_data"
    }
   ],
   "source": [
    "fig, ax_array = plt.subplots(nrows=5, ncols=5, sharey=True, sharex=True, figsize=(12, 12))\n",
    "for r in range(5):\n",
    "    for c in range(5):\n",
    "        ax_array[r, c].matshow(np.array(hidden_layer[5 * r + c].reshape((20, 20))),cmap=matplotlib.cm.binary)\n",
    "        plt.xticks(np.array([]))\n",
    "        plt.yticks(np.array([])) "
   ]
  }
 ],
 "metadata": {
  "kernelspec": {
   "display_name": "Python 3",
   "language": "python",
   "name": "python3"
  },
  "language_info": {
   "codemirror_mode": {
    "name": "ipython",
    "version": 3
   },
   "file_extension": ".py",
   "mimetype": "text/x-python",
   "name": "python",
   "nbconvert_exporter": "python",
   "pygments_lexer": "ipython3",
   "version": "3.8.3"
  }
 },
 "nbformat": 4,
 "nbformat_minor": 1
}
